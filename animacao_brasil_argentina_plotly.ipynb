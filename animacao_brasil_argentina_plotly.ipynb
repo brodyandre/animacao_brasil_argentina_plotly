{
  "cells": [
    {
      "cell_type": "markdown",
      "metadata": {
        "id": "view-in-github",
        "colab_type": "text"
      },
      "source": [
        "<a href=\"https://colab.research.google.com/github/brodyandre/animacao_brasil_argentina_plotly/blob/main/animacao_brasil_argentina_plotly.ipynb\" target=\"_parent\"><img src=\"https://colab.research.google.com/assets/colab-badge.svg\" alt=\"Open In Colab\"/></a>"
      ]
    },
    {
      "cell_type": "markdown",
      "id": "a4db98ff",
      "metadata": {
        "id": "a4db98ff"
      },
      "source": [
        "\n",
        "# 📈 Análise de Imigração: Brasil 🇧🇷 vs Argentina 🇦🇷 (1980–2013)\n",
        "\n",
        "Este notebook apresenta uma visualização animada da imigração do **Brasil** e da **Argentina** para o **Canadá** entre os anos de **1980 a 2013**.\n",
        "\n",
        "Utilizaremos a biblioteca `Plotly` para criar uma **animação interativa**, onde será possível visualizar a evolução do número de imigrantes ao longo do tempo.\n",
        "\n",
        "---\n"
      ]
    },
    {
      "cell_type": "code",
      "execution_count": null,
      "id": "4aa87872",
      "metadata": {
        "id": "4aa87872"
      },
      "outputs": [],
      "source": [
        "\n",
        "# ⚙️ Instalação das bibliotecas (caso necessário)\n",
        "!pip install plotly pandas\n"
      ]
    },
    {
      "cell_type": "code",
      "execution_count": null,
      "id": "a0a2c3cc",
      "metadata": {
        "id": "a0a2c3cc"
      },
      "outputs": [],
      "source": [
        "\n",
        "# 📚 Importação de bibliotecas\n",
        "import pandas as pd\n",
        "import plotly.graph_objects as go\n"
      ]
    },
    {
      "cell_type": "code",
      "execution_count": null,
      "id": "7d48662a",
      "metadata": {
        "id": "7d48662a"
      },
      "outputs": [],
      "source": [
        "\n",
        "# 📥 Carregando os dados\n",
        "df = pd.read_csv(\"/content/imigrantes_canada.csv\")\n",
        "df.head()\n"
      ]
    },
    {
      "cell_type": "code",
      "execution_count": null,
      "id": "1b67b60d",
      "metadata": {
        "id": "1b67b60d"
      },
      "outputs": [],
      "source": [
        "\n",
        "# 🌎 Filtrando dados do Brasil e da Argentina\n",
        "df_brasil = df[df['País'] == 'Brasil'].iloc[0]\n",
        "df_argentina = df[df['País'] == 'Argentina'].iloc[0]\n"
      ]
    },
    {
      "cell_type": "code",
      "execution_count": null,
      "id": "95c47405",
      "metadata": {
        "id": "95c47405"
      },
      "outputs": [],
      "source": [
        "\n",
        "# 📊 Preparando os dados de 1980 a 2013\n",
        "anos = list(map(str, range(1980, 2014)))\n",
        "anos_int = list(map(int, anos))\n",
        "dados_brasil = df_brasil[anos].astype(int).values\n",
        "dados_argentina = df_argentina[anos].astype(int).values\n"
      ]
    },
    {
      "cell_type": "code",
      "execution_count": null,
      "id": "6af3c2a3",
      "metadata": {
        "id": "6af3c2a3"
      },
      "outputs": [],
      "source": [
        "\n",
        "# 🎥 Criando gráfico animado com Plotly\n",
        "fig = go.Figure(\n",
        "    data=[\n",
        "        go.Scatter(x=[1980], y=[dados_brasil[0]], mode=\"lines+markers\", name=\"Brasil\", line=dict(color='green')),\n",
        "        go.Scatter(x=[1980], y=[dados_argentina[0]], mode=\"lines+markers\", name=\"Argentina\", line=dict(color='blue'))\n",
        "    ],\n",
        "    layout=go.Layout(\n",
        "        title=\"Imigração para o Canadá: Brasil vs Argentina (1980–2013)\",\n",
        "        xaxis=dict(title='Ano', range=[1980, 2013]),\n",
        "        yaxis=dict(title='Número de imigrantes', range=[0, max(dados_brasil.max(), dados_argentina.max()) + 1000]),\n",
        "        updatemenus=[\n",
        "            dict(\n",
        "                type=\"buttons\",\n",
        "                buttons=[dict(label=\"▶️ Play\", method=\"animate\", args=[None])]\n",
        "            )\n",
        "        ]\n",
        "    ),\n",
        "    frames=[\n",
        "        go.Frame(\n",
        "            data=[\n",
        "                go.Scatter(x=anos_int[:k+1], y=dados_brasil[:k+1], mode=\"lines+markers\", name=\"Brasil\", line=dict(color='green')),\n",
        "                go.Scatter(x=anos_int[:k+1], y=dados_argentina[:k+1], mode=\"lines+markers\", name=\"Argentina\", line=dict(color='blue'))\n",
        "            ],\n",
        "            name=str(anos_int[k])\n",
        "        )\n",
        "        for k in range(1, len(anos_int))\n",
        "    ]\n",
        ")\n",
        "\n",
        "fig.show()\n"
      ]
    },
    {
      "cell_type": "markdown",
      "id": "8159dba4",
      "metadata": {
        "id": "8159dba4"
      },
      "source": [
        "\n",
        "---\n",
        "\n",
        "## ✅ Conclusão\n",
        "\n",
        "Com o gráfico animado, podemos comparar a evolução da imigração de brasileiros e argentinos para o Canadá ao longo de mais de três décadas. Essa abordagem visual facilita insights rápidos para análises exploratórias.\n",
        "\n",
        "---\n",
        "\n",
        "🔗 Fontes: Dataset oficial de imigração canadense (adaptado)  \n",
        "📌 Desenvolvido por: Luiz André de Souza  \n",
        "📅 Projeto: Análise de Dados com Python e Visualização Interativa  \n"
      ]
    }
  ],
  "metadata": {
    "colab": {
      "provenance": [],
      "include_colab_link": true
    }
  },
  "nbformat": 4,
  "nbformat_minor": 5
}